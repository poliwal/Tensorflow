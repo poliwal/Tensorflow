{
  "nbformat": 4,
  "nbformat_minor": 0,
  "metadata": {
    "accelerator": "GPU",
    "colab": {
      "name": "NLP Course - Week 3 Exercise Question.ipynb",
      "provenance": [],
      "include_colab_link": true
    },
    "kernelspec": {
      "display_name": "Python 3",
      "name": "python3"
    }
  },
  "cells": [
    {
      "cell_type": "markdown",
      "metadata": {
        "id": "view-in-github",
        "colab_type": "text"
      },
      "source": [
        "<a href=\"https://colab.research.google.com/github/poliwal/Tensorflow-in-Practice/blob/master/Exercise_11(NLPITF).ipynb\" target=\"_parent\"><img src=\"https://colab.research.google.com/assets/colab-badge.svg\" alt=\"Open In Colab\"/></a>"
      ]
    },
    {
      "cell_type": "code",
      "metadata": {
        "colab_type": "code",
        "id": "hmA6EzkQJ5jt",
        "colab": {}
      },
      "source": [
        "import json\n",
        "import tensorflow as tf\n",
        "import csv\n",
        "import random\n",
        "import numpy as np\n",
        "\n",
        "from tensorflow.keras.preprocessing.text import Tokenizer\n",
        "from tensorflow.keras.preprocessing.sequence import pad_sequences\n",
        "from tensorflow.keras.utils import to_categorical\n",
        "from tensorflow.keras import regularizers\n",
        "\n",
        "\n",
        "embedding_dim = 100\n",
        "max_length = 16\n",
        "trunc_type='post'\n",
        "padding_type='post'\n",
        "oov_tok = \"<OOV>\"\n",
        "training_size=160000\n",
        "test_portion=.1\n",
        "\n",
        "corpus = []\n"
      ],
      "execution_count": 0,
      "outputs": []
    },
    {
      "cell_type": "code",
      "metadata": {
        "colab_type": "code",
        "id": "bM0l_dORKqE0",
        "outputId": "6c8a0c11-d421-4117-da40-077d368b723e",
        "colab": {
          "base_uri": "https://localhost:8080/",
          "height": 204
        }
      },
      "source": [
        "# Note that I cleaned the Stanford dataset to remove LATIN1 encoding to make it easier for Python CSV reader\n",
        "# You can do that yourself with:\n",
        "# iconv -f LATIN1 -t UTF8 training.1600000.processed.noemoticon.csv -o training_cleaned.csv\n",
        "# I then hosted it on my site to make it easier to use in this notebook\n",
        "\n",
        "!wget --no-check-certificate \\\n",
        "    https://storage.googleapis.com/laurencemoroney-blog.appspot.com/training_cleaned.csv \\\n",
        "    -O /tmp/training_cleaned.csv\n",
        "\n",
        "num_sentences = 0\n",
        "\n",
        "with open(\"/tmp/training_cleaned.csv\") as csvfile:\n",
        "    reader = csv.reader(csvfile, delimiter=',')\n",
        "    for row in reader:\n",
        "      # Your Code here. Create list items where the first item is the text, found in row[5], and the second is the label. Note that the label is a '0' or a '4' in the text. When it's the former, make\n",
        "      # your label to be 0, otherwise 1. Keep a count of the number of sentences in num_sentences\n",
        "        list_item=[]\n",
        "        list_item.append(row[5])\n",
        "        this_label=row[0]\n",
        "        if this_label=='0':\n",
        "            list_item.append(0)\n",
        "        else:\n",
        "            list_item.append(1)\n",
        "        num_sentences = num_sentences + 1\n",
        "        corpus.append(list_item)\n"
      ],
      "execution_count": 0,
      "outputs": [
        {
          "output_type": "stream",
          "text": [
            "--2020-05-24 14:38:15--  https://storage.googleapis.com/laurencemoroney-blog.appspot.com/training_cleaned.csv\n",
            "Resolving storage.googleapis.com (storage.googleapis.com)... 108.177.119.128, 2a00:1450:4013:c01::80\n",
            "Connecting to storage.googleapis.com (storage.googleapis.com)|108.177.119.128|:443... connected.\n",
            "HTTP request sent, awaiting response... 200 OK\n",
            "Length: 238942690 (228M) [application/octet-stream]\n",
            "Saving to: ‘/tmp/training_cleaned.csv’\n",
            "\n",
            "/tmp/training_clean 100%[===================>] 227.87M   204MB/s    in 1.1s    \n",
            "\n",
            "2020-05-24 14:38:16 (204 MB/s) - ‘/tmp/training_cleaned.csv’ saved [238942690/238942690]\n",
            "\n"
          ],
          "name": "stdout"
        }
      ]
    },
    {
      "cell_type": "code",
      "metadata": {
        "colab_type": "code",
        "id": "3kxblBUjEUX-",
        "outputId": "46711e88-9d9d-4fc2-84c0-413c81a28792",
        "colab": {
          "base_uri": "https://localhost:8080/",
          "height": 68
        }
      },
      "source": [
        "print(num_sentences)\n",
        "print(len(corpus))\n",
        "print(corpus[1])\n",
        "\n",
        "# Expected Output:\n",
        "# 1600000\n",
        "# 1600000\n",
        "# [\"is upset that he can't update his Facebook by texting it... and might cry as a result  School today also. Blah!\", 0]"
      ],
      "execution_count": 0,
      "outputs": [
        {
          "output_type": "stream",
          "text": [
            "1600000\n",
            "1600000\n",
            "[\"is upset that he can't update his Facebook by texting it... and might cry as a result  School today also. Blah!\", 0]\n"
          ],
          "name": "stdout"
        }
      ]
    },
    {
      "cell_type": "code",
      "metadata": {
        "colab_type": "code",
        "id": "ohOGz24lsNAD",
        "colab": {}
      },
      "source": [
        "sentences=[]\n",
        "labels=[]\n",
        "random.shuffle(corpus)\n",
        "for x in range(training_size):\n",
        "    sentences.append(corpus[x][0])\n",
        "    labels.append(corpus[x][1])\n",
        "\n",
        "\n",
        "tokenizer = Tokenizer()\n",
        "tokenizer.fit_on_texts(sentences)\n",
        "\n",
        "word_index = tokenizer.word_index\n",
        "vocab_size=len(word_index)\n",
        "\n",
        "sequences = tokenizer.texts_to_sequences(sentences)\n",
        "padded = pad_sequences(sequences, maxlen=max_length, padding=padding_type, truncating=trunc_type)\n",
        "\n",
        "split = int(test_portion * training_size)\n",
        "\n",
        "test_sequences = padded[0:split]\n",
        "training_sequences = padded[split:training_size]\n",
        "test_labels = labels[0:split]\n",
        "training_labels = labels[split:training_size]\n",
        "\n",
        "training_labels = np.array(training_labels)\n",
        "training_sequences = np.array(training_sequences)\n",
        "test_labels = np.array(test_labels)\n",
        "test_sequences = np.array(test_sequences)"
      ],
      "execution_count": 0,
      "outputs": []
    },
    {
      "cell_type": "code",
      "metadata": {
        "colab_type": "code",
        "id": "gIrtRem1En3N",
        "outputId": "ccbf12cc-7b7e-419b-8dc3-423c6b01383d",
        "colab": {
          "base_uri": "https://localhost:8080/",
          "height": 51
        }
      },
      "source": [
        "print(vocab_size)\n",
        "print(word_index['i'])\n",
        "# Expected Output\n",
        "# 138858\n",
        "# 1"
      ],
      "execution_count": 0,
      "outputs": [
        {
          "output_type": "stream",
          "text": [
            "139014\n",
            "1\n"
          ],
          "name": "stdout"
        }
      ]
    },
    {
      "cell_type": "code",
      "metadata": {
        "colab_type": "code",
        "id": "C1zdgJkusRh0",
        "outputId": "7134513a-dd0c-4805-8e2e-b4dc1775c0c3",
        "colab": {
          "base_uri": "https://localhost:8080/",
          "height": 204
        }
      },
      "source": [
        "# Note this is the 100 dimension version of GloVe from Stanford\n",
        "# I unzipped and hosted it on my site to make this notebook easier\n",
        "!wget --no-check-certificate \\\n",
        "    https://storage.googleapis.com/laurencemoroney-blog.appspot.com/glove.6B.100d.txt \\\n",
        "    -O /tmp/glove.6B.100d.txt\n",
        "embeddings_index = {};\n",
        "with open('/tmp/glove.6B.100d.txt') as f:\n",
        "    for line in f:\n",
        "        values = line.split();\n",
        "        word = values[0];\n",
        "        coefs = np.asarray(values[1:], dtype='float32');\n",
        "        embeddings_index[word] = coefs;\n",
        "\n",
        "embeddings_matrix = np.zeros((vocab_size+1, embedding_dim));\n",
        "for word, i in word_index.items():\n",
        "    embedding_vector = embeddings_index.get(word);\n",
        "    if embedding_vector is not None:\n",
        "        embeddings_matrix[i] = embedding_vector;"
      ],
      "execution_count": 0,
      "outputs": [
        {
          "output_type": "stream",
          "text": [
            "--2020-05-24 15:05:21--  https://storage.googleapis.com/laurencemoroney-blog.appspot.com/glove.6B.100d.txt\n",
            "Resolving storage.googleapis.com (storage.googleapis.com)... 108.177.126.128, 2a00:1450:4013:c01::80\n",
            "Connecting to storage.googleapis.com (storage.googleapis.com)|108.177.126.128|:443... connected.\n",
            "HTTP request sent, awaiting response... 200 OK\n",
            "Length: 347116733 (331M) [text/plain]\n",
            "Saving to: ‘/tmp/glove.6B.100d.txt’\n",
            "\n",
            "/tmp/glove.6B.100d. 100%[===================>] 331.04M   207MB/s    in 1.6s    \n",
            "\n",
            "2020-05-24 15:05:23 (207 MB/s) - ‘/tmp/glove.6B.100d.txt’ saved [347116733/347116733]\n",
            "\n"
          ],
          "name": "stdout"
        }
      ]
    },
    {
      "cell_type": "code",
      "metadata": {
        "colab_type": "code",
        "id": "71NLk_lpFLNt",
        "outputId": "b93e82e1-5037-4af4-f66d-eaa374a7a6da",
        "colab": {
          "base_uri": "https://localhost:8080/",
          "height": 34
        }
      },
      "source": [
        "print(len(embeddings_matrix))\n",
        "# Expected Output\n",
        "# 138859"
      ],
      "execution_count": 0,
      "outputs": [
        {
          "output_type": "stream",
          "text": [
            "139015\n"
          ],
          "name": "stdout"
        }
      ]
    },
    {
      "cell_type": "code",
      "metadata": {
        "colab_type": "code",
        "id": "iKKvbuEBOGFz",
        "outputId": "cbc27fe9-db88-4f75-bc68-45e608129a90",
        "colab": {
          "base_uri": "https://localhost:8080/",
          "height": 1000
        }
      },
      "source": [
        "model = tf.keras.Sequential([\n",
        "    tf.keras.layers.Embedding(vocab_size+1, embedding_dim, input_length=max_length, weights=[embeddings_matrix], trainable=False),\n",
        "    tf.keras.layers.Dropout(0.2),\n",
        "    tf.keras.layers.Conv1D(64, 5, activation='relu'),\n",
        "    tf.keras.layers.MaxPooling1D(pool_size=4),\n",
        "    tf.keras.layers.LSTM(64),\n",
        "    tf.keras.layers.Dense(1, activation='sigmoid')\n",
        "])\n",
        "model.compile(loss='binary_crossentropy',optimizer='adam',metrics=['accuracy'])\n",
        "model.summary()\n",
        "\n",
        "num_epochs = 50\n",
        "history = model.fit(training_sequences, training_labels, epochs=num_epochs, validation_data=(test_sequences, test_labels), verbose=2)\n",
        "\n",
        "print(\"Training Complete\")\n"
      ],
      "execution_count": 0,
      "outputs": [
        {
          "output_type": "stream",
          "text": [
            "Model: \"sequential_2\"\n",
            "_________________________________________________________________\n",
            "Layer (type)                 Output Shape              Param #   \n",
            "=================================================================\n",
            "embedding_2 (Embedding)      (None, 16, 100)           13901500  \n",
            "_________________________________________________________________\n",
            "dropout_2 (Dropout)          (None, 16, 100)           0         \n",
            "_________________________________________________________________\n",
            "conv1d_2 (Conv1D)            (None, 12, 64)            32064     \n",
            "_________________________________________________________________\n",
            "max_pooling1d_2 (MaxPooling1 (None, 3, 64)             0         \n",
            "_________________________________________________________________\n",
            "lstm_2 (LSTM)                (None, 64)                33024     \n",
            "_________________________________________________________________\n",
            "dense_2 (Dense)              (None, 1)                 65        \n",
            "=================================================================\n",
            "Total params: 13,966,653\n",
            "Trainable params: 65,153\n",
            "Non-trainable params: 13,901,500\n",
            "_________________________________________________________________\n",
            "Epoch 1/50\n",
            "4500/4500 - 16s - loss: 0.5683 - accuracy: 0.6994 - val_loss: 0.5290 - val_accuracy: 0.7313\n",
            "Epoch 2/50\n",
            "4500/4500 - 15s - loss: 0.5277 - accuracy: 0.7312 - val_loss: 0.5118 - val_accuracy: 0.7412\n",
            "Epoch 3/50\n",
            "4500/4500 - 15s - loss: 0.5116 - accuracy: 0.7433 - val_loss: 0.4993 - val_accuracy: 0.7531\n",
            "Epoch 4/50\n",
            "4500/4500 - 15s - loss: 0.5002 - accuracy: 0.7508 - val_loss: 0.4995 - val_accuracy: 0.7518\n",
            "Epoch 5/50\n",
            "4500/4500 - 16s - loss: 0.4923 - accuracy: 0.7548 - val_loss: 0.4978 - val_accuracy: 0.7558\n",
            "Epoch 6/50\n",
            "4500/4500 - 15s - loss: 0.4833 - accuracy: 0.7615 - val_loss: 0.4927 - val_accuracy: 0.7577\n",
            "Epoch 7/50\n",
            "4500/4500 - 15s - loss: 0.4781 - accuracy: 0.7660 - val_loss: 0.4958 - val_accuracy: 0.7589\n",
            "Epoch 8/50\n",
            "4500/4500 - 15s - loss: 0.4720 - accuracy: 0.7682 - val_loss: 0.4978 - val_accuracy: 0.7540\n",
            "Epoch 9/50\n",
            "4500/4500 - 15s - loss: 0.4681 - accuracy: 0.7722 - val_loss: 0.4963 - val_accuracy: 0.7553\n",
            "Epoch 10/50\n",
            "4500/4500 - 15s - loss: 0.4652 - accuracy: 0.7728 - val_loss: 0.5022 - val_accuracy: 0.7512\n",
            "Epoch 11/50\n",
            "4500/4500 - 15s - loss: 0.4609 - accuracy: 0.7762 - val_loss: 0.4986 - val_accuracy: 0.7522\n",
            "Epoch 12/50\n",
            "4500/4500 - 15s - loss: 0.4579 - accuracy: 0.7782 - val_loss: 0.4994 - val_accuracy: 0.7536\n",
            "Epoch 13/50\n",
            "4500/4500 - 15s - loss: 0.4554 - accuracy: 0.7788 - val_loss: 0.5031 - val_accuracy: 0.7559\n",
            "Epoch 14/50\n",
            "4500/4500 - 15s - loss: 0.4535 - accuracy: 0.7810 - val_loss: 0.5015 - val_accuracy: 0.7537\n",
            "Epoch 15/50\n",
            "4500/4500 - 15s - loss: 0.4513 - accuracy: 0.7833 - val_loss: 0.5096 - val_accuracy: 0.7516\n",
            "Epoch 16/50\n",
            "4500/4500 - 15s - loss: 0.4490 - accuracy: 0.7840 - val_loss: 0.5014 - val_accuracy: 0.7520\n",
            "Epoch 17/50\n",
            "4500/4500 - 15s - loss: 0.4478 - accuracy: 0.7839 - val_loss: 0.5114 - val_accuracy: 0.7476\n",
            "Epoch 18/50\n",
            "4500/4500 - 15s - loss: 0.4456 - accuracy: 0.7868 - val_loss: 0.5059 - val_accuracy: 0.7529\n",
            "Epoch 19/50\n",
            "4500/4500 - 15s - loss: 0.4451 - accuracy: 0.7847 - val_loss: 0.5027 - val_accuracy: 0.7541\n",
            "Epoch 20/50\n",
            "4500/4500 - 15s - loss: 0.4429 - accuracy: 0.7862 - val_loss: 0.5031 - val_accuracy: 0.7531\n",
            "Epoch 21/50\n",
            "4500/4500 - 15s - loss: 0.4421 - accuracy: 0.7874 - val_loss: 0.5097 - val_accuracy: 0.7488\n",
            "Epoch 22/50\n",
            "4500/4500 - 15s - loss: 0.4419 - accuracy: 0.7874 - val_loss: 0.5050 - val_accuracy: 0.7502\n",
            "Epoch 23/50\n",
            "4500/4500 - 15s - loss: 0.4403 - accuracy: 0.7880 - val_loss: 0.5096 - val_accuracy: 0.7527\n",
            "Epoch 24/50\n",
            "4500/4500 - 15s - loss: 0.4377 - accuracy: 0.7890 - val_loss: 0.5138 - val_accuracy: 0.7509\n",
            "Epoch 25/50\n",
            "4500/4500 - 15s - loss: 0.4375 - accuracy: 0.7902 - val_loss: 0.5119 - val_accuracy: 0.7526\n",
            "Epoch 26/50\n",
            "4500/4500 - 16s - loss: 0.4389 - accuracy: 0.7891 - val_loss: 0.5093 - val_accuracy: 0.7516\n",
            "Epoch 27/50\n",
            "4500/4500 - 15s - loss: 0.4372 - accuracy: 0.7907 - val_loss: 0.5115 - val_accuracy: 0.7489\n",
            "Epoch 28/50\n",
            "4500/4500 - 15s - loss: 0.4341 - accuracy: 0.7928 - val_loss: 0.5147 - val_accuracy: 0.7527\n",
            "Epoch 29/50\n",
            "4500/4500 - 15s - loss: 0.4366 - accuracy: 0.7902 - val_loss: 0.5164 - val_accuracy: 0.7546\n",
            "Epoch 30/50\n",
            "4500/4500 - 15s - loss: 0.4356 - accuracy: 0.7919 - val_loss: 0.5091 - val_accuracy: 0.7502\n",
            "Epoch 31/50\n",
            "4500/4500 - 15s - loss: 0.4320 - accuracy: 0.7946 - val_loss: 0.5121 - val_accuracy: 0.7472\n",
            "Epoch 32/50\n",
            "4500/4500 - 15s - loss: 0.4316 - accuracy: 0.7942 - val_loss: 0.5110 - val_accuracy: 0.7502\n",
            "Epoch 33/50\n",
            "4500/4500 - 15s - loss: 0.4336 - accuracy: 0.7933 - val_loss: 0.5124 - val_accuracy: 0.7508\n",
            "Epoch 34/50\n",
            "4500/4500 - 15s - loss: 0.4328 - accuracy: 0.7931 - val_loss: 0.5138 - val_accuracy: 0.7529\n",
            "Epoch 35/50\n",
            "4500/4500 - 15s - loss: 0.4318 - accuracy: 0.7940 - val_loss: 0.5163 - val_accuracy: 0.7477\n",
            "Epoch 36/50\n",
            "4500/4500 - 15s - loss: 0.4309 - accuracy: 0.7946 - val_loss: 0.5239 - val_accuracy: 0.7500\n",
            "Epoch 37/50\n",
            "4500/4500 - 15s - loss: 0.4305 - accuracy: 0.7946 - val_loss: 0.5161 - val_accuracy: 0.7520\n",
            "Epoch 38/50\n",
            "4500/4500 - 15s - loss: 0.4304 - accuracy: 0.7935 - val_loss: 0.5153 - val_accuracy: 0.7511\n",
            "Epoch 39/50\n",
            "4500/4500 - 15s - loss: 0.4308 - accuracy: 0.7941 - val_loss: 0.5146 - val_accuracy: 0.7499\n",
            "Epoch 40/50\n",
            "4500/4500 - 15s - loss: 0.4298 - accuracy: 0.7952 - val_loss: 0.5191 - val_accuracy: 0.7493\n",
            "Epoch 41/50\n",
            "4500/4500 - 15s - loss: 0.4291 - accuracy: 0.7960 - val_loss: 0.5250 - val_accuracy: 0.7455\n",
            "Epoch 42/50\n",
            "4500/4500 - 15s - loss: 0.4282 - accuracy: 0.7966 - val_loss: 0.5201 - val_accuracy: 0.7524\n",
            "Epoch 43/50\n",
            "4500/4500 - 15s - loss: 0.4277 - accuracy: 0.7974 - val_loss: 0.5183 - val_accuracy: 0.7489\n",
            "Epoch 44/50\n",
            "4500/4500 - 15s - loss: 0.4276 - accuracy: 0.7970 - val_loss: 0.5165 - val_accuracy: 0.7485\n",
            "Epoch 45/50\n",
            "4500/4500 - 15s - loss: 0.4290 - accuracy: 0.7964 - val_loss: 0.5159 - val_accuracy: 0.7504\n",
            "Epoch 46/50\n",
            "4500/4500 - 15s - loss: 0.4273 - accuracy: 0.7970 - val_loss: 0.5209 - val_accuracy: 0.7496\n",
            "Epoch 47/50\n",
            "4500/4500 - 15s - loss: 0.4285 - accuracy: 0.7973 - val_loss: 0.5131 - val_accuracy: 0.7502\n",
            "Epoch 48/50\n",
            "4500/4500 - 15s - loss: 0.4268 - accuracy: 0.7982 - val_loss: 0.5200 - val_accuracy: 0.7503\n",
            "Epoch 49/50\n",
            "4500/4500 - 15s - loss: 0.4281 - accuracy: 0.7968 - val_loss: 0.5169 - val_accuracy: 0.7507\n",
            "Epoch 50/50\n",
            "4500/4500 - 15s - loss: 0.4280 - accuracy: 0.7957 - val_loss: 0.5188 - val_accuracy: 0.7485\n",
            "Training Complete\n"
          ],
          "name": "stdout"
        }
      ]
    },
    {
      "cell_type": "code",
      "metadata": {
        "colab_type": "code",
        "id": "qxju4ItJKO8F",
        "outputId": "d1ebe055-4467-44ec-d038-e1600c2b3daf",
        "colab": {
          "base_uri": "https://localhost:8080/",
          "height": 607
        }
      },
      "source": [
        "import matplotlib.image  as mpimg\n",
        "import matplotlib.pyplot as plt\n",
        "\n",
        "#-----------------------------------------------------------\n",
        "# Retrieve a list of list results on training and test data\n",
        "# sets for each training epoch\n",
        "#-----------------------------------------------------------\n",
        "acc=history.history['accuracy']\n",
        "val_acc=history.history['val_accuracy']\n",
        "loss=history.history['loss']\n",
        "val_loss=history.history['val_loss']\n",
        "\n",
        "epochs=range(len(acc)) # Get number of epochs\n",
        "\n",
        "#------------------------------------------------\n",
        "# Plot training and validation accuracy per epoch\n",
        "#------------------------------------------------\n",
        "plt.plot(epochs, acc, 'r')\n",
        "plt.plot(epochs, val_acc, 'b')\n",
        "plt.title('Training and validation accuracy')\n",
        "plt.xlabel(\"Epochs\")\n",
        "plt.ylabel(\"Accuracy\")\n",
        "plt.legend([\"Accuracy\", \"Validation Accuracy\"])\n",
        "\n",
        "plt.figure()\n",
        "\n",
        "#------------------------------------------------\n",
        "# Plot training and validation loss per epoch\n",
        "#------------------------------------------------\n",
        "plt.plot(epochs, loss, 'r')\n",
        "plt.plot(epochs, val_loss, 'b')\n",
        "plt.title('Training and validation loss')\n",
        "plt.xlabel(\"Epochs\")\n",
        "plt.ylabel(\"Loss\")\n",
        "plt.legend([\"Loss\", \"Validation Loss\"])\n",
        "\n",
        "plt.figure()\n",
        "\n",
        "\n",
        "# Expected Output\n",
        "# A chart where the validation loss does not increase sharply!"
      ],
      "execution_count": 0,
      "outputs": [
        {
          "output_type": "execute_result",
          "data": {
            "text/plain": [
              "<Figure size 432x288 with 0 Axes>"
            ]
          },
          "metadata": {
            "tags": []
          },
          "execution_count": 24
        },
        {
          "output_type": "display_data",
          "data": {
            "image/png": "[encoded data removed]",
            "text/plain": [
              "<Figure size 432x288 with 1 Axes>"
            ]
          },
          "metadata": {
            "tags": [],
            "needs_background": "light"
          }
        },
        {
          "output_type": "display_data",
          "data": {
            "image/png": "[encoded data removed]",
            "text/plain": [
              "<Figure size 432x288 with 1 Axes>"
            ]
          },
          "metadata": {
            "tags": [],
            "needs_background": "light"
          }
        },
        {
          "output_type": "display_data",
          "data": {
            "text/plain": [
              "<Figure size 432x288 with 0 Axes>"
            ]
          },
          "metadata": {
            "tags": []
          }
        }
      ]
    }
  ]
}